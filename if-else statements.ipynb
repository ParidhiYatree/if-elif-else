{
 "cells": [
  {
   "cell_type": "markdown",
   "id": "70549169-c41f-4c2c-904f-6f2f42cccf82",
   "metadata": {},
   "source": [
    "# If-Else Statements in Python"
   ]
  },
  {
   "cell_type": "code",
   "execution_count": 16,
   "id": "d04923bb-d8d0-4d16-b11b-5c27a5a82a70",
   "metadata": {},
   "outputs": [
    {
     "name": "stdout",
     "output_type": "stream",
     "text": [
      "Overwriting 01_positive_negative_zero.py\n"
     ]
    }
   ],
   "source": [
    "\n",
    "# 1. Write a program to check if a number is positive, negative, or zero.\n",
    "num= int(input('Write a number'))\n",
    "if num>0:\n",
    "    print('number is positive')\n",
    "elif num<0:\n",
    "    print('number is negative')\n",
    "else: \n",
    "    print('number is 0')"
   ]
  },
  {
   "cell_type": "code",
   "execution_count": 8,
   "id": "ac49fb55-ac15-49e0-ad04-c1b0e3308823",
   "metadata": {},
   "outputs": [
    {
     "name": "stdin",
     "output_type": "stream",
     "text": [
      "Write a number 202\n"
     ]
    },
    {
     "name": "stdout",
     "output_type": "stream",
     "text": [
      "number is even\n"
     ]
    }
   ],
   "source": [
    "\n",
    "# 2.Check if a given number is even or odd.\n",
    "num_1= int(input('Write a number'))\n",
    "if num_1% 2==0:\n",
    "    print('number is even')\n",
    "else:\n",
    "    print('nuber is odd')\n",
    "    "
   ]
  },
  {
   "cell_type": "code",
   "execution_count": 14,
   "id": "15804e3b-2eed-400c-9077-3b825336628c",
   "metadata": {},
   "outputs": [
    {
     "name": "stdin",
     "output_type": "stream",
     "text": [
      "which year 1992\n"
     ]
    },
    {
     "name": "stdout",
     "output_type": "stream",
     "text": [
      "leap year\n"
     ]
    }
   ],
   "source": [
    "\n",
    "# 3. Determine whether a given year is a leap year or not\n",
    "year=int(input('which year'))\n",
    "if year% 4==0:\n",
    "    print('leap year')\n",
    "else:\n",
    "    print('not a leap year')"
   ]
  },
  {
   "cell_type": "code",
   "execution_count": 42,
   "id": "ffecfdf1-d007-4753-9214-453588f6c0cc",
   "metadata": {},
   "outputs": [
    {
     "name": "stdin",
     "output_type": "stream",
     "text": [
      "write an alphabet 5\n"
     ]
    },
    {
     "name": "stdout",
     "output_type": "stream",
     "text": [
      "Its a consonant\n"
     ]
    }
   ],
   "source": [
    "\n",
    "# 4. Check if a character entered is a vowel or consonant.\n",
    "alp= input('write an alphabet').lower()\n",
    "if alp==('a','e','i','o','u'):\n",
    "    print('Its a vowel')\n",
    "else:\n",
    "    print('Its a consonant')"
   ]
  },
  {
   "cell_type": "code",
   "execution_count": 52,
   "id": "1d923ffb-dd21-4b87-be42-3f3b87bfad68",
   "metadata": {},
   "outputs": [
    {
     "name": "stdin",
     "output_type": "stream",
     "text": [
      "write an alphabet ,\n"
     ]
    },
    {
     "name": "stdout",
     "output_type": "stream",
     "text": [
      "Its a consonant\n"
     ]
    }
   ],
   "source": [
    "\n",
    "# 4. Check if a character entered is a vowel or consonant.\n",
    "alp= input('write an alphabet').lower()\n",
    "if len(alp)== 1 and alp.isalpha():\n",
    "    if alp==('a','e','i','o','u'):\n",
    "        print('Its a vowel')\n",
    "else:\n",
    "    print('Its a consonant')\n",
    "    "
   ]
  },
  {
   "cell_type": "code",
   "execution_count": 54,
   "id": "37b91808-2338-4fb9-b210-4377c175f991",
   "metadata": {},
   "outputs": [
    {
     "name": "stdin",
     "output_type": "stream",
     "text": [
      "Write an alphabet:  ,\n"
     ]
    },
    {
     "name": "stdout",
     "output_type": "stream",
     "text": [
      "Invalid input. Please enter a single alphabet letter.\n"
     ]
    }
   ],
   "source": [
    "\n",
    "alp = input(\"Write an alphabet: \").lower()\n",
    "\n",
    "if len(alp) == 1 and alp.isalpha():  # Checks if it's a single alphabetic character\n",
    "    if alp in ('a', 'e', 'i', 'o', 'u'):\n",
    "        print(\"It's a vowel\")\n",
    "    else:\n",
    "        print(\"It's a consonant\")\n",
    "else:\n",
    "    print(\"Invalid input. Please enter a single alphabet letter.\")"
   ]
  },
  {
   "cell_type": "code",
   "execution_count": 70,
   "id": "6263e61f-2224-4c7d-94d2-12642c91b2ed",
   "metadata": {},
   "outputs": [
    {
     "name": "stdin",
     "output_type": "stream",
     "text": [
      "Your age 12\n"
     ]
    },
    {
     "name": "stdout",
     "output_type": "stream",
     "text": [
      "you have to wait for 6 year(s)\n"
     ]
    }
   ],
   "source": [
    "\n",
    "# 5.Write a program to check if a person is eligible to vote (age ≥ 18).\n",
    "age= int(input('Your age'))\n",
    "if age >=18:\n",
    "    print('You are eligible for voting ')\n",
    "else:\n",
    "    print('you have to wait for', 18-age,'year(s)')\n"
   ]
  },
  {
   "cell_type": "code",
   "execution_count": 78,
   "id": "cc47754d-64bb-4b9c-a1a8-ba077eccc1e1",
   "metadata": {},
   "outputs": [
    {
     "name": "stdin",
     "output_type": "stream",
     "text": [
      "Write first number 8\n",
      "Write second number 200\n"
     ]
    },
    {
     "name": "stdout",
     "output_type": "stream",
     "text": [
      "second no. is greater\n"
     ]
    }
   ],
   "source": [
    "\n",
    "# 6. Determine the largest of two numbers entered by the user.\n",
    "n=int(input('Write first number'))\n",
    "n1=int(input('Write second number'))\n",
    "if n>n1:\n",
    "    print('first no. is greater')\n",
    "elif n1>n:\n",
    "    print('second no. is greater')\n",
    "else:\n",
    "    print('both are equal')"
   ]
  },
  {
   "cell_type": "code",
   "execution_count": 90,
   "id": "6150fd41-229e-401c-9f35-fcbc7131aa8e",
   "metadata": {},
   "outputs": [
    {
     "name": "stdin",
     "output_type": "stream",
     "text": [
      "Write a number 200\n"
     ]
    },
    {
     "name": "stdout",
     "output_type": "stream",
     "text": [
      "This no. can be divided by 5 and 10\n"
     ]
    }
   ],
   "source": [
    "\n",
    "# 7. Check whether a number is divisible by both 5 and 10.\n",
    "n2=int(input('Write a number'))\n",
    "if n2%5==0 and n2%10==0:\n",
    "    print('This no. can be divided by 5 and 10')\n",
    "elif  n2%5==0 :\n",
    "    print('This no. can be divided by 5')\n",
    "elif n2%10==0:\n",
    "    print('This no. can be divided by 10')\n",
    "else:\n",
    "    print('This no. cant be divided by 5 and 10')"
   ]
  },
  {
   "cell_type": "code",
   "execution_count": 104,
   "id": "1f7867fe-cf89-4b5a-8742-283d0f028530",
   "metadata": {},
   "outputs": [
    {
     "name": "stdin",
     "output_type": "stream",
     "text": [
      "Write a number 212\n"
     ]
    },
    {
     "name": "stdout",
     "output_type": "stream",
     "text": [
      "This no. is not multiple of 3 or 7\n"
     ]
    }
   ],
   "source": [
    "\n",
    "# 8. Write a program to check if a number is a multiple of 3 or 7.\n",
    "n3=int(input('Write a number'))\n",
    "if n3%3==0 and n3%7==0:\n",
    "    print('This no. is multiple of both 3 and 7')\n",
    "elif  n3%7==0 :\n",
    "    print('This no. is multiple of 7')\n",
    "elif n3%3==0:\n",
    "    print('This no. is multiple of 3')\n",
    "else:\n",
    "    print('This no. is not multiple of 3 or 7')\n"
   ]
  },
  {
   "cell_type": "code",
   "execution_count": 132,
   "id": "fb7d0f84-90f8-4877-9143-4ce6d37bde7a",
   "metadata": {},
   "outputs": [
    {
     "name": "stdin",
     "output_type": "stream",
     "text": [
      "write a letter l\n"
     ]
    },
    {
     "name": "stdout",
     "output_type": "stream",
     "text": [
      "This is in small letter\n"
     ]
    }
   ],
   "source": [
    "\n",
    "# 9. Check if the input character is an uppercase or lowercase letter.\n",
    "case= input('write a letter')\n",
    "if len(case)==1 and case.isalpha:\n",
    "    if case.isupper():\n",
    "        print('This is in captital letter')\n",
    "    elif case.islower():\n",
    "        print('This is in small letter')\n",
    "    else:\n",
    "        print('write only letter')\n",
    "    \n"
   ]
  },
  {
   "cell_type": "code",
   "execution_count": 166,
   "id": "eb266055-019a-4ea9-beb2-c6b541d906ac",
   "metadata": {},
   "outputs": [
    {
     "name": "stdin",
     "output_type": "stream",
     "text": [
      "write a digit -5\n"
     ]
    },
    {
     "name": "stdout",
     "output_type": "stream",
     "text": [
      "Its a single digit number\n"
     ]
    }
   ],
   "source": [
    "\n",
    "# 10. Determine whether a given number is a single-digit number or not.\n",
    "d= int(input('write a digit'))\n",
    "if d <=9 and d>=-9:\n",
    "    print('Its a single digit number')\n",
    "elif d<99 and d>-99:\n",
    "    print('Its a doubble digit number')\n",
    "else:\n",
    "    print('only 2 digit are allowed')"
   ]
  },
  {
   "cell_type": "code",
   "execution_count": 176,
   "id": "3a3101c7-c881-414f-86ad-250cd7e124a6",
   "metadata": {},
   "outputs": [
    {
     "name": "stdin",
     "output_type": "stream",
     "text": [
      "enter side 1 5\n",
      "enter side 2 50\n",
      "enter side 3 1000\n"
     ]
    },
    {
     "name": "stdout",
     "output_type": "stream",
     "text": [
      "not a valid triangle\n"
     ]
    }
   ],
   "source": [
    "\n",
    "# 11. Check if three sides form a valid triangle (sum of two sides > the third side).\n",
    "s1=int(input('enter side 1'))\n",
    "s2=int(input('enter side 2'))\n",
    "s3=int(input('enter side 3'))\n",
    "if (s1+s2> s3) and (s2+s3> s1) and (s3+s1> s2):\n",
    "    print('its a valid triangle')\n",
    "else: \n",
    "    print('not a valid triangle')\n",
    "                "
   ]
  },
  {
   "cell_type": "code",
   "execution_count": 182,
   "id": "9850e516-e2d5-4bf9-8a00-a42ef6e020ff",
   "metadata": {},
   "outputs": [
    {
     "name": "stdin",
     "output_type": "stream",
     "text": [
      "enter num 1 55\n",
      "enter num 2 56\n",
      "enter num 3 57\n"
     ]
    },
    {
     "name": "stdout",
     "output_type": "stream",
     "text": [
      "n3 is greatest\n"
     ]
    }
   ],
   "source": [
    "\n",
    "#12. Write a program to find the largest of three numbers.\n",
    "n1=int(input('enter num 1'))\n",
    "n2=int(input('enter num 2'))\n",
    "n3=int(input('enter num 3'))\n",
    "# which nunb is greatest\n",
    "if n1>n2:\n",
    "    print('n1 is largest')\n",
    "elif n2>n3:\n",
    "    print('n2 is largest')\n",
    "elif n3>n1:\n",
    "    print('n3 is largest')\n",
    "else:\n",
    "    print('all are equal')"
   ]
  },
  {
   "cell_type": "code",
   "execution_count": 210,
   "id": "ffb52d97-8a91-4678-a9b0-c568815122c2",
   "metadata": {},
   "outputs": [
    {
     "name": "stdin",
     "output_type": "stream",
     "text": [
      "write anything gh\n"
     ]
    },
    {
     "name": "stdout",
     "output_type": "stream",
     "text": [
      "invelid input\n"
     ]
    }
   ],
   "source": [
    "\n",
    "# 13. Determine whether a character is an alphabet, a digit, or a special character.\n",
    "alp= input('write anything')\n",
    "if len(alp)==1:\n",
    "    if alp.isalpha():\n",
    "       print('Its an alphabet')\n",
    "    elif alp.isdigit():\n",
    "       print('Its a number')\n",
    "    else:\n",
    "        print('Its a charecter')\n",
    "else: \n",
    "    print('invelid input')"
   ]
  },
  {
   "cell_type": "code",
   "execution_count": 244,
   "id": "1b1e5292-6284-4d36-b19c-dcd8261e6221",
   "metadata": {},
   "outputs": [
    {
     "name": "stdin",
     "output_type": "stream",
     "text": [
      "write a number 27\n"
     ]
    },
    {
     "name": "stdout",
     "output_type": "stream",
     "text": [
      "prime\n"
     ]
    }
   ],
   "source": [
    "\n",
    "\n",
    "# 14. Check whether a given number is a prime number.\n",
    "num= int(input('write a number'))\n",
    "if num% 2==0:\n",
    "   print('not a prime number')\n",
    "else:\n",
    "   print('prime')\n"
   ]
  },
  {
   "cell_type": "code",
   "execution_count": 224,
   "id": "99bf24c9-56d9-4aef-a0c1-e644bed006ab",
   "metadata": {},
   "outputs": [
    {
     "name": "stdin",
     "output_type": "stream",
     "text": [
      "score 80\n"
     ]
    },
    {
     "name": "stdout",
     "output_type": "stream",
     "text": [
      "Good you score grade C\n"
     ]
    }
   ],
   "source": [
    "\n",
    "# 15. Write a program to calculate the grade based on marks:\n",
    "score=int(input('score'))\n",
    "if score< 100 and score >=90:\n",
    "    print('Excelent you score grde', 'A')\n",
    "elif score>=89:\n",
    "    print('Excelent you score grade' ,'B')\n",
    "elif score>=79:\n",
    "    print('Good you score grade','C')\n",
    "elif score>=69 and score >60:\n",
    "    print('You can do better you score grade','D')\n",
    "else:\n",
    "    print('You failed')\n",
    "\n"
   ]
  },
  {
   "cell_type": "code",
   "execution_count": 62,
   "id": "deb48c6f-22e0-4273-8721-31fbf7f509d0",
   "metadata": {},
   "outputs": [
    {
     "name": "stdin",
     "output_type": "stream",
     "text": [
      "write a three digit number 564\n"
     ]
    },
    {
     "name": "stdout",
     "output_type": "stream",
     "text": [
      "number is not a palindrome\n"
     ]
    }
   ],
   "source": [
    "\n",
    "# 16.Determine whether a given number is a palindrome (reads the same backward and forward).\n",
    "num= input('write a three digit number')\n",
    "if len(num) ==3 and num.isdigit():\n",
    "    if num==num[::-1]:\n",
    "      print ('the number is palindrome')\n",
    "    else:\n",
    "      print('number is not a palindrome')\n",
    "else:\n",
    "    print('write only number')"
   ]
  },
  {
   "cell_type": "code",
   "execution_count": 65,
   "id": "a763de1f-ca52-4819-8ce4-cf41072131f9",
   "metadata": {},
   "outputs": [
    {
     "name": "stdin",
     "output_type": "stream",
     "text": [
      "write a week jk\n"
     ]
    },
    {
     "name": "stdout",
     "output_type": "stream",
     "text": [
      "write weeks only\n"
     ]
    }
   ],
   "source": [
    "\n",
    "# 17.Write a program to classify a given day of the week as a weekday or weekend.\n",
    "week = input('write a week').lower()\n",
    "if week in ['monday','tuesday','wednesday','thrusday','friday']:\n",
    "  print('this is weekday')\n",
    "elif week in ['saturday', 'sunday']:\n",
    "  print('this is weekend day')\n",
    "else:\n",
    "  print('write weeks only')"
   ]
  },
  {
   "cell_type": "code",
   "execution_count": 69,
   "id": "dcc97611-8594-46e8-a02a-3702ffd49e4e",
   "metadata": {},
   "outputs": [
    {
     "name": "stdin",
     "output_type": "stream",
     "text": [
      "plz enter the time hj\n"
     ]
    },
    {
     "ename": "ValueError",
     "evalue": "invalid literal for int() with base 10: 'hj'",
     "output_type": "error",
     "traceback": [
      "\u001b[1;31m---------------------------------------------------------------------------\u001b[0m",
      "\u001b[1;31mValueError\u001b[0m                                Traceback (most recent call last)",
      "Cell \u001b[1;32mIn[69], line 2\u001b[0m\n\u001b[0;32m      1\u001b[0m \u001b[38;5;66;03m# 18. write a program to classify a given time as time zone\u001b[39;00m\n\u001b[1;32m----> 2\u001b[0m time \u001b[38;5;241m=\u001b[39m \u001b[38;5;28mint\u001b[39m(\u001b[38;5;28minput\u001b[39m(\u001b[38;5;124m\"\u001b[39m\u001b[38;5;124mplz enter the time\u001b[39m\u001b[38;5;124m\"\u001b[39m))\n\u001b[0;32m      3\u001b[0m \u001b[38;5;28;01mif\u001b[39;00m time\u001b[38;5;241m<\u001b[39m\u001b[38;5;241m0\u001b[39m:\n\u001b[0;32m      4\u001b[0m     \u001b[38;5;28mprint\u001b[39m(\u001b[38;5;124m\"\u001b[39m\u001b[38;5;124minvalid\u001b[39m\u001b[38;5;124m\"\u001b[39m)\n",
      "\u001b[1;31mValueError\u001b[0m: invalid literal for int() with base 10: 'hj'"
     ]
    }
   ],
   "source": [
    "# 18. write a program to classify a given time as time zone\n",
    "time = int(input(\"plz enter the time\"))\n",
    "if time<0:\n",
    "    print(\"invalid\")\n",
    "elif 0<= time<= 5:\n",
    "    print(\"mid night\")\n",
    "elif 6<= time<=11:\n",
    "    print(\"morning\")\n",
    "elif 12<= time<=16:\n",
    "    print(\"aftrenoon\")\n",
    "elif 17<= time<= 19:\n",
    "    print(\"evening\")\n",
    "elif 20<= time<= 23:\n",
    "    print(\"night\")\n",
    "else:\n",
    "    print(\"invalid\")"
   ]
  },
  {
   "cell_type": "code",
   "execution_count": 77,
   "id": "24139324-904e-4c16-839d-2ca06cc2af36",
   "metadata": {},
   "outputs": [
    {
     "name": "stdin",
     "output_type": "stream",
     "text": [
      "enter the first number 20\n",
      "enter the second number 0\n",
      "enter you Operator (+,-,*,/):-  /\n"
     ]
    },
    {
     "name": "stdout",
     "output_type": "stream",
     "text": [
      "divisor cannot be 0\n"
     ]
    }
   ],
   "source": [
    "# 19 create a calculator\n",
    "n1= int(input(\"enter the first number\"))\n",
    "n2= int(input(\"enter the second number\"))\n",
    "Operator= input(\"enter you Operator (+,-,*,/):- \" )\n",
    "if Operator=='+':\n",
    "    print(\"value=\", n1+n2)\n",
    "elif Operator==\"-\":\n",
    "    print(\"value=\", n1-n2)\n",
    "elif Operator=='*':\n",
    "    print(\"value=\", n1*n2)\n",
    "elif Operator==\"/\":\n",
    "    if n2==0:\n",
    "        print(\"divisor cannot be 0\")\n",
    "    else:\n",
    "        print(\"value=\", n1/n2)\n",
    "else:\n",
    "    print(\"invalid Operator\")"
   ]
  },
  {
   "cell_type": "code",
   "execution_count": 81,
   "id": "17f26e6d-16fd-4b37-a20a-7a0247092728",
   "metadata": {},
   "outputs": [
    {
     "name": "stdin",
     "output_type": "stream",
     "text": [
      "Want to go on trip (yes/no):  yes\n",
      "How much money do you have?  1000\n",
      "Can you borrow money? (yes/no):  yes\n",
      "How much can you borrow?  5000\n"
     ]
    },
    {
     "name": "stdout",
     "output_type": "stream",
     "text": [
      "Better Luck Next Time\n"
     ]
    }
   ],
   "source": [
    "# write a programe to ask person to go to trip which cost atleast 10000\n",
    "trip = input('Want to go on trip (yes/no): ')\n",
    "\n",
    "if trip.lower() == 'yes':\n",
    "    money = int(input('How much money do you have? '))\n",
    "\n",
    "    if money >= 10000:\n",
    "        print('You Are Ready To Go')\n",
    "\n",
    "    else:\n",
    "        borrow = input('Can you borrow money? (yes/no): ')\n",
    "        if borrow.lower() == 'yes':\n",
    "            amount = int(input('How much can you borrow? '))\n",
    "            if money + amount >= 10000:\n",
    "                print('You Are Ready To Go')\n",
    "            else:\n",
    "                print('Better Luck Next Time')\n",
    "        else:\n",
    "            print('Better Luck Next Time')\n",
    "else:\n",
    "    print('Better Luck Next Time')\n",
    "    "
   ]
  }
 ],
 "metadata": {
  "kernelspec": {
   "display_name": "Python [conda env:base] *",
   "language": "python",
   "name": "conda-base-py"
  },
  "language_info": {
   "codemirror_mode": {
    "name": "ipython",
    "version": 3
   },
   "file_extension": ".py",
   "mimetype": "text/x-python",
   "name": "python",
   "nbconvert_exporter": "python",
   "pygments_lexer": "ipython3",
   "version": "3.12.7"
  }
 },
 "nbformat": 4,
 "nbformat_minor": 5
}
